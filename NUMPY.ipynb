{
  "nbformat": 4,
  "nbformat_minor": 0,
  "metadata": {
    "colab": {
      "provenance": []
    },
    "kernelspec": {
      "name": "python3",
      "display_name": "Python 3"
    },
    "language_info": {
      "name": "python"
    }
  },
  "cells": [
    {
      "cell_type": "code",
      "execution_count": null,
      "metadata": {
        "colab": {
          "base_uri": "https://localhost:8080/"
        },
        "id": "-mmdPC7Fp_2Y",
        "outputId": "d4636c5e-f85e-4457-839c-787a995ba46a"
      },
      "outputs": [
        {
          "output_type": "stream",
          "name": "stdout",
          "text": [
            "[1. 2. 3. 4.]\n"
          ]
        }
      ],
      "source": [
        "import numpy as np\n",
        "arr=np.array([1,2,3,4],dtype=float)\n",
        "print(arr)"
      ]
    },
    {
      "cell_type": "code",
      "source": [
        "import numpy as np\n",
        "zeros_arr=np.zeros((3,3))\n",
        "print(zeros_arr)"
      ],
      "metadata": {
        "colab": {
          "base_uri": "https://localhost:8080/"
        },
        "id": "aN5MtXJcqtzM",
        "outputId": "212066cd-b17f-4b91-947e-3f6292239710"
      },
      "execution_count": null,
      "outputs": [
        {
          "output_type": "stream",
          "name": "stdout",
          "text": [
            "[[0. 0. 0.]\n",
            " [0. 0. 0.]\n",
            " [0. 0. 0.]]\n"
          ]
        }
      ]
    },
    {
      "cell_type": "code",
      "source": [
        "onesarr=np.ones((3,3),dtype=int)\n",
        "print(onesarr)"
      ],
      "metadata": {
        "colab": {
          "base_uri": "https://localhost:8080/"
        },
        "id": "fkx3hGIasNLv",
        "outputId": "8f54fbe9-fd86-403a-fc7a-d9e76f5f0a68"
      },
      "execution_count": null,
      "outputs": [
        {
          "output_type": "stream",
          "name": "stdout",
          "text": [
            "[[1 1 1]\n",
            " [1 1 1]\n",
            " [1 1 1]]\n"
          ]
        }
      ]
    },
    {
      "cell_type": "code",
      "source": [
        "reshape_arr=np.array([1,2,3,4,5,6])\n",
        "p=reshape_arr.reshape(2,3)\n",
        "print(p)"
      ],
      "metadata": {
        "colab": {
          "base_uri": "https://localhost:8080/"
        },
        "id": "cF3SxLXdsoHh",
        "outputId": "fe0df461-56bd-4277-ff89-9e40642a31c0"
      },
      "execution_count": null,
      "outputs": [
        {
          "output_type": "stream",
          "name": "stdout",
          "text": [
            "[[1 2 3]\n",
            " [4 5 6]]\n"
          ]
        }
      ]
    },
    {
      "cell_type": "code",
      "source": [
        "import numpy as np\n",
        "sliced_arr=np.array([1,2,3,4,5,6])\n",
        "a=sliced_arr[2:5]\n",
        "print(a)"
      ],
      "metadata": {
        "colab": {
          "base_uri": "https://localhost:8080/"
        },
        "id": "OO5GKlMAtpRE",
        "outputId": "da8b44d6-89d4-4b9f-e06f-a2ea67b28e25"
      },
      "execution_count": null,
      "outputs": [
        {
          "output_type": "stream",
          "name": "stdout",
          "text": [
            "[3 4 5]\n"
          ]
        }
      ]
    },
    {
      "cell_type": "code",
      "source": [
        "import numpy as np\n",
        "split_arr=np.array([1,2,3,4,5,6])\n",
        "b=np.split(split_arr,3)\n",
        "print(b)"
      ],
      "metadata": {
        "colab": {
          "base_uri": "https://localhost:8080/"
        },
        "id": "FyZcywiBt6U0",
        "outputId": "225cecaf-6795-4e3e-8e15-7cc2a6e0e8f4"
      },
      "execution_count": null,
      "outputs": [
        {
          "output_type": "stream",
          "name": "stdout",
          "text": [
            "[array([1, 2]), array([3, 4]), array([5, 6])]\n"
          ]
        }
      ]
    },
    {
      "cell_type": "code",
      "source": [
        "import numpy as np\n",
        "trr_arr=np.array([1,2,3,4,5,6])\n",
        "b=trr_arr.T\n",
        "print(b)"
      ],
      "metadata": {
        "colab": {
          "base_uri": "https://localhost:8080/"
        },
        "id": "qqU08fBqwASm",
        "outputId": "196b5a8f-9e8a-482c-f5f1-aaf2486f0500"
      },
      "execution_count": null,
      "outputs": [
        {
          "output_type": "stream",
          "name": "stdout",
          "text": [
            "[1 2 3 4 5 6]\n"
          ]
        }
      ]
    },
    {
      "cell_type": "code",
      "source": [
        "a=np.array([[1,2],[3,4]])\n",
        "b=np.array([[5,6],[7,8]])\n",
        "c=np.dot(a,b)\n",
        "print(c)\n",
        "d=np.linalg.eig(c)\n",
        "print(d)"
      ],
      "metadata": {
        "colab": {
          "base_uri": "https://localhost:8080/"
        },
        "id": "x6GW6PLcwbYz",
        "outputId": "f19ec893-dc10-4e53-87f5-8fb2b4b6ee46"
      },
      "execution_count": null,
      "outputs": [
        {
          "output_type": "stream",
          "name": "stdout",
          "text": [
            "[[19 22]\n",
            " [43 50]]\n",
            "EigResult(eigenvalues=array([5.80198014e-02, 6.89419802e+01]), eigenvectors=array([[-0.75781077, -0.40313049],\n",
            "       [ 0.65247439, -0.91514251]]))\n"
          ]
        }
      ]
    },
    {
      "cell_type": "code",
      "source": [
        "d=np.loadtxt(\"/content/drive/MyDrive/dataset/DAP.txt\",dtype=int)\n",
        "da=np.savetxt(\"/content/DAP.txt\",d)\n",
        "print(d)\n",
        "print(da)"
      ],
      "metadata": {
        "id": "xDdve5TZ0nvx",
        "colab": {
          "base_uri": "https://localhost:8080/"
        },
        "outputId": "9d8e14c9-ccd1-4f06-9261-cf92d849e6db"
      },
      "execution_count": null,
      "outputs": [
        {
          "output_type": "stream",
          "name": "stdout",
          "text": [
            "[[ 1  2  3  4  5]\n",
            " [ 6  7  8  9 10]\n",
            " [11 12 13 14 15]\n",
            " [16 17 18 19 20]\n",
            " [21 22 23 24 25]]\n",
            "None\n"
          ]
        }
      ]
    },
    {
      "cell_type": "code",
      "source": [
        "import numpy as np\n",
        "a=np.arange(0,100,5)\n",
        "b=np.savetxt(\"/content/s.txt\",a)"
      ],
      "metadata": {
        "id": "8yYCo80dNUOX"
      },
      "execution_count": null,
      "outputs": []
    },
    {
      "cell_type": "code",
      "source": [
        "import numpy as np\n",
        "a=np.random.rand()\n",
        "print(a)"
      ],
      "metadata": {
        "colab": {
          "base_uri": "https://localhost:8080/"
        },
        "id": "xiibt4uOR-td",
        "outputId": "91436743-0b73-491b-bb9b-312ebdbdc45e"
      },
      "execution_count": null,
      "outputs": [
        {
          "output_type": "stream",
          "name": "stdout",
          "text": [
            "0.14107326571057044\n"
          ]
        }
      ]
    },
    {
      "cell_type": "code",
      "source": [
        "import numpy as np\n",
        "a=np.random.randint(2,10)\n",
        "print(a)"
      ],
      "metadata": {
        "colab": {
          "base_uri": "https://localhost:8080/"
        },
        "id": "UDWAJRnZSmGt",
        "outputId": "c957e710-6866-440f-d6b2-cad76d81bf40"
      },
      "execution_count": null,
      "outputs": [
        {
          "output_type": "stream",
          "name": "stdout",
          "text": [
            "8\n"
          ]
        }
      ]
    },
    {
      "cell_type": "code",
      "source": [
        "import numpy as np\n",
        "a=np.array([[1,2],[4,5]])\n",
        "print(type(a))\n",
        "print(a.ndim)\n",
        "print(a.shape)\n"
      ],
      "metadata": {
        "colab": {
          "base_uri": "https://localhost:8080/"
        },
        "id": "mzc5s0orTFXe",
        "outputId": "12bc6a1b-730f-4446-81ab-567f2d2a8b76"
      },
      "execution_count": null,
      "outputs": [
        {
          "output_type": "stream",
          "name": "stdout",
          "text": [
            "<class 'numpy.ndarray'>\n",
            "2\n",
            "(2, 2)\n"
          ]
        }
      ]
    },
    {
      "cell_type": "code",
      "source": [
        "a=np.linspace(0.8,2,5)\n",
        "print(a)"
      ],
      "metadata": {
        "colab": {
          "base_uri": "https://localhost:8080/"
        },
        "id": "RN3y-UYcUL15",
        "outputId": "c8536bd0-65ac-4b51-c21d-058c6c02faf2"
      },
      "execution_count": null,
      "outputs": [
        {
          "output_type": "stream",
          "name": "stdout",
          "text": [
            "[0.8 1.1 1.4 1.7 2. ]\n"
          ]
        }
      ]
    },
    {
      "cell_type": "code",
      "source": [
        "a=np.arange(0,24)\n",
        "print(a)\n",
        "print(a.reshape(3,2,4))"
      ],
      "metadata": {
        "colab": {
          "base_uri": "https://localhost:8080/"
        },
        "id": "1nl45toQUxys",
        "outputId": "16c4ff95-5b2e-4aff-d973-8e632ed21fc2"
      },
      "execution_count": null,
      "outputs": [
        {
          "output_type": "stream",
          "name": "stdout",
          "text": [
            "[ 0  1  2  3  4  5  6  7  8  9 10 11 12 13 14 15 16 17 18 19 20 21 22 23]\n",
            "[[[ 0  1  2  3]\n",
            "  [ 4  5  6  7]]\n",
            "\n",
            " [[ 8  9 10 11]\n",
            "  [12 13 14 15]]\n",
            "\n",
            " [[16 17 18 19]\n",
            "  [20 21 22 23]]]\n"
          ]
        }
      ]
    },
    {
      "cell_type": "code",
      "source": [
        "a=np.array([[1,2],[5,6]])\n",
        "b=np.array([[1,2],[5,6]])\n",
        "print(a*b)\n",
        "print(a@b)\n",
        "print(np.dot(a,b))"
      ],
      "metadata": {
        "colab": {
          "base_uri": "https://localhost:8080/"
        },
        "id": "LvRhr2fJWXSc",
        "outputId": "ec5d79dc-e3d9-4c8e-c8ef-c4ca4ebd35a5"
      },
      "execution_count": null,
      "outputs": [
        {
          "output_type": "stream",
          "name": "stdout",
          "text": [
            "[[ 1  4]\n",
            " [25 36]]\n",
            "[[11 14]\n",
            " [35 46]]\n",
            "[[11 14]\n",
            " [35 46]]\n"
          ]
        }
      ]
    },
    {
      "cell_type": "code",
      "source": [
        "a=np.array([[1,2],[5,6]])\n",
        "b=np.array([[1,2],[5,6]])\n",
        "print(a+b)"
      ],
      "metadata": {
        "colab": {
          "base_uri": "https://localhost:8080/"
        },
        "id": "Rq0PEUqbXt1J",
        "outputId": "1f33d2a9-e4c7-48a4-d264-f420d4458886"
      },
      "execution_count": null,
      "outputs": [
        {
          "output_type": "stream",
          "name": "stdout",
          "text": [
            "[[ 2  4]\n",
            " [10 12]]\n"
          ]
        }
      ]
    },
    {
      "cell_type": "code",
      "source": [
        "from numpy import random\n",
        "a=np.ones([2,3],dtype=int)\n",
        "c=np.random.random((2,2))\n",
        "print(a)\n",
        "print(a.sum())\n",
        "print(a.sum(axis=1))\n",
        "print(a.sum(axis=0))\n",
        "p=np.floor(np.random.random((2,2)))\n",
        "q=np.ceil(np.random.random((2,2)))\n",
        "print(c)\n",
        "print(p)\n",
        "print(q)"
      ],
      "metadata": {
        "colab": {
          "base_uri": "https://localhost:8080/"
        },
        "id": "6WP0cKy3ZMni",
        "outputId": "654849be-fd25-44c1-c5c5-29d77e7e6a8c"
      },
      "execution_count": null,
      "outputs": [
        {
          "output_type": "stream",
          "name": "stdout",
          "text": [
            "[[1 1 1]\n",
            " [1 1 1]]\n",
            "6\n",
            "[3 3]\n",
            "[2 2 2]\n",
            "[[0.6695206  0.13881653]\n",
            " [0.68999439 0.53427265]]\n",
            "[[0. 0.]\n",
            " [0. 0.]]\n",
            "[[1. 1.]\n",
            " [1. 1.]]\n"
          ]
        }
      ]
    },
    {
      "cell_type": "code",
      "source": [
        "a=np.ones([2,3],dtype=int)\n",
        "print(a)\n",
        "print(a.max())\n",
        "print(a.max(axis=1))\n",
        "print(a.max(axis=0))\n",
        "print(a.min())\n",
        "print(a.min(axis=1))\n",
        "print(a.min(axis=0))"
      ],
      "metadata": {
        "colab": {
          "base_uri": "https://localhost:8080/"
        },
        "id": "Yut5x3_pchwF",
        "outputId": "bec03cb4-751a-47f5-c584-b636490a3009"
      },
      "execution_count": null,
      "outputs": [
        {
          "output_type": "stream",
          "name": "stdout",
          "text": [
            "[[1 1 1]\n",
            " [1 1 1]]\n",
            "1\n",
            "[1 1]\n",
            "[1 1 1]\n"
          ]
        }
      ]
    },
    {
      "cell_type": "code",
      "source": [
        "a=np.array([[1,2],[5,6]])\n",
        "print(a)\n",
        "print(a.max())\n",
        "print(a.max(axis=1))\n",
        "print(a.max(axis=0))\n",
        "print(a.min())\n",
        "print(a.min(axis=1))\n",
        "print(a.min(axis=0))"
      ],
      "metadata": {
        "colab": {
          "base_uri": "https://localhost:8080/"
        },
        "id": "NS7j0HnvdA8w",
        "outputId": "4ec91231-6d16-49b5-ddc0-87e9ce1c66b4"
      },
      "execution_count": null,
      "outputs": [
        {
          "output_type": "stream",
          "name": "stdout",
          "text": [
            "[[1 2]\n",
            " [5 6]]\n",
            "6\n",
            "[2 6]\n",
            "[5 6]\n",
            "1\n",
            "[1 5]\n",
            "[1 2]\n"
          ]
        }
      ]
    },
    {
      "cell_type": "code",
      "source": [
        "a=np.array([[1,2],[5,6]])\n",
        "print(a)\n",
        "print(a.cumsum())\n",
        "print(a.cumsum(axis=1))\n",
        "print(a.cumsum(axis=0))"
      ],
      "metadata": {
        "colab": {
          "base_uri": "https://localhost:8080/"
        },
        "id": "M0T_71aMdVH6",
        "outputId": "8bd12236-80a4-416c-d0d5-7504861cdd5a"
      },
      "execution_count": null,
      "outputs": [
        {
          "output_type": "stream",
          "name": "stdout",
          "text": [
            "[[1 2]\n",
            " [5 6]]\n",
            "[ 1  3  8 14]\n",
            "[[ 1  3]\n",
            " [ 5 11]]\n",
            "[[1 2]\n",
            " [6 8]]\n"
          ]
        }
      ]
    },
    {
      "cell_type": "code",
      "source": [
        "a=np.array([2,3,5,6])\n",
        "print(a.cumsum())\n"
      ],
      "metadata": {
        "colab": {
          "base_uri": "https://localhost:8080/"
        },
        "id": "vhqf6e-dd1so",
        "outputId": "33ee4914-de21-4f2c-df9e-bbf70b9f74d5"
      },
      "execution_count": null,
      "outputs": [
        {
          "output_type": "stream",
          "name": "stdout",
          "text": [
            "[ 2  5 10 16]\n"
          ]
        }
      ]
    },
    {
      "cell_type": "code",
      "source": [
        "a=np.array([2,3,4,5,6,7])\n",
        "a.resize(3,2)\n",
        "print(a.shape)"
      ],
      "metadata": {
        "colab": {
          "base_uri": "https://localhost:8080/"
        },
        "id": "3NCajQ9SeYY3",
        "outputId": "3377091f-7daa-43d3-a360-86bc87258a6f"
      },
      "execution_count": null,
      "outputs": [
        {
          "output_type": "stream",
          "name": "stdout",
          "text": [
            "(3, 2)\n"
          ]
        }
      ]
    },
    {
      "cell_type": "code",
      "source": [
        "a=np.array([2,3,5,6,7,4])\n",
        "b=np.array([11,22,33,44,55,66])\n",
        "a.resize(2,3)\n",
        "b.resize(2,3)\n",
        "print(np.vstack((a,b)))"
      ],
      "metadata": {
        "colab": {
          "base_uri": "https://localhost:8080/"
        },
        "id": "t3XsM4QWfkYI",
        "outputId": "5c7a69cb-61c0-4aac-bf7d-99a39485c852"
      },
      "execution_count": null,
      "outputs": [
        {
          "output_type": "stream",
          "name": "stdout",
          "text": [
            "[[ 2  3  5]\n",
            " [ 6  7  4]\n",
            " [11 22 33]\n",
            " [44 55 66]]\n"
          ]
        }
      ]
    },
    {
      "cell_type": "code",
      "source": [
        "a=np.array([2,3,5,6,7,4])\n",
        "b=np.array([11,22,33,44,55,66])\n",
        "a.resize(2,3)\n",
        "b.resize(2,3)\n",
        "print(np.hstack((a,b)))"
      ],
      "metadata": {
        "colab": {
          "base_uri": "https://localhost:8080/"
        },
        "id": "R7bkHa-tg0Rl",
        "outputId": "4ef4d8c4-914f-44f6-9142-920e5e40f70f"
      },
      "execution_count": null,
      "outputs": [
        {
          "output_type": "stream",
          "name": "stdout",
          "text": [
            "[[ 2  3  5 11 22 33]\n",
            " [ 6  7  4 44 55 66]]\n"
          ]
        }
      ]
    },
    {
      "cell_type": "code",
      "source": [
        "import numpy as np\n",
        "a=np.arange(0,30).reshape(2,3,5)\n",
        "print(a)\n",
        "print(np.dstack(a))"
      ],
      "metadata": {
        "colab": {
          "base_uri": "https://localhost:8080/"
        },
        "id": "Lf-JDWwYhEaR",
        "outputId": "e845aabf-70cc-4b1f-b12e-520147d8de9b"
      },
      "execution_count": null,
      "outputs": [
        {
          "output_type": "stream",
          "name": "stdout",
          "text": [
            "[[[ 0  1  2  3  4]\n",
            "  [ 5  6  7  8  9]\n",
            "  [10 11 12 13 14]]\n",
            "\n",
            " [[15 16 17 18 19]\n",
            "  [20 21 22 23 24]\n",
            "  [25 26 27 28 29]]]\n",
            "[[[ 0 15]\n",
            "  [ 1 16]\n",
            "  [ 2 17]\n",
            "  [ 3 18]\n",
            "  [ 4 19]]\n",
            "\n",
            " [[ 5 20]\n",
            "  [ 6 21]\n",
            "  [ 7 22]\n",
            "  [ 8 23]\n",
            "  [ 9 24]]\n",
            "\n",
            " [[10 25]\n",
            "  [11 26]\n",
            "  [12 27]\n",
            "  [13 28]\n",
            "  [14 29]]]\n"
          ]
        }
      ]
    },
    {
      "cell_type": "markdown",
      "source": [
        "number of rows become number of groups\n",
        "number of colums become rows\n",
        "group become column"
      ],
      "metadata": {
        "id": "RjEuShtIh70X"
      }
    },
    {
      "cell_type": "code",
      "source": [
        "import numpy as np\n",
        "a=np.eye(4)\n",
        "print(a)"
      ],
      "metadata": {
        "colab": {
          "base_uri": "https://localhost:8080/"
        },
        "id": "BCXAI_znTkVj",
        "outputId": "0f030be7-97f8-42dc-baab-f7a1da66129c"
      },
      "execution_count": null,
      "outputs": [
        {
          "output_type": "stream",
          "name": "stdout",
          "text": [
            "[[1. 0. 0. 0.]\n",
            " [0. 1. 0. 0.]\n",
            " [0. 0. 1. 0.]\n",
            " [0. 0. 0. 1.]]\n"
          ]
        }
      ]
    },
    {
      "cell_type": "code",
      "source": [
        "import numpy as np\n",
        "a=np.full((2,2),2)\n",
        "print(a)"
      ],
      "metadata": {
        "colab": {
          "base_uri": "https://localhost:8080/"
        },
        "id": "UQquSerDZ02z",
        "outputId": "12aa474a-cb99-44ca-c35f-bf9fae708117"
      },
      "execution_count": null,
      "outputs": [
        {
          "output_type": "stream",
          "name": "stdout",
          "text": [
            "[[2 2]\n",
            " [2 2]]\n"
          ]
        }
      ]
    },
    {
      "cell_type": "code",
      "source": [
        "import numpy as np\n",
        "x=[1,2,3,4]\n",
        "a=np.asarray(x)\n",
        "print(a)\n",
        "print(type(a))"
      ],
      "metadata": {
        "colab": {
          "base_uri": "https://localhost:8080/"
        },
        "id": "IcU2el0daQtt",
        "outputId": "ba434a85-cd60-4f43-8d65-0da044ffe59b"
      },
      "execution_count": null,
      "outputs": [
        {
          "output_type": "stream",
          "name": "stdout",
          "text": [
            "[1 2 3 4]\n",
            "<class 'numpy.ndarray'>\n"
          ]
        }
      ]
    },
    {
      "cell_type": "code",
      "source": [
        "x=np.array([1,4,0],float)\n",
        "y=np.array([2,2,1],float)\n",
        "print(np.inner(x,y))\n",
        "print(np.outer(x,y))\n",
        "print(np.cross(x,y))"
      ],
      "metadata": {
        "colab": {
          "base_uri": "https://localhost:8080/"
        },
        "id": "sPhr19PHas0f",
        "outputId": "0eb037f9-9eaf-4f59-f69b-bd77d017e604"
      },
      "execution_count": null,
      "outputs": [
        {
          "output_type": "stream",
          "name": "stdout",
          "text": [
            "10.0\n",
            "[[2. 2. 1.]\n",
            " [8. 8. 4.]\n",
            " [0. 0. 0.]]\n",
            "[ 4. -1. -6.]\n"
          ]
        }
      ]
    },
    {
      "cell_type": "markdown",
      "source": [
        "inner:- element wise multiplication and sum\n",
        "outer:- 1st array is multiplay with 2nd array"
      ],
      "metadata": {
        "id": "2_4UKYSbcqfn"
      }
    },
    {
      "cell_type": "code",
      "source": [
        "x=np.array([1.1,2.2,3.3,4.4,5,6.6,7.7],float)\n",
        "a=np.rint(x)\n",
        "print(a)"
      ],
      "metadata": {
        "colab": {
          "base_uri": "https://localhost:8080/"
        },
        "id": "NLdwiboAdIsQ",
        "outputId": "025cf29f-7250-40db-ef99-747f8a1a4ecf"
      },
      "execution_count": null,
      "outputs": [
        {
          "output_type": "stream",
          "name": "stdout",
          "text": [
            "[1. 2. 3. 4. 5. 7. 8.]\n"
          ]
        }
      ]
    },
    {
      "cell_type": "code",
      "source": [
        "x=np.array([1,2,3,4,5])\n",
        "y=np.array([2,2,7,4,5])\n",
        "c=np.true_divide(x,y)\n",
        "print(c)"
      ],
      "metadata": {
        "colab": {
          "base_uri": "https://localhost:8080/"
        },
        "id": "e4vI4xgNdjH6",
        "outputId": "8610d190-bade-4cc4-b77a-f2bcd1334c3f"
      },
      "execution_count": null,
      "outputs": [
        {
          "output_type": "stream",
          "name": "stdout",
          "text": [
            "[0.5        1.         0.42857143 1.         1.        ]\n"
          ]
        }
      ]
    },
    {
      "cell_type": "code",
      "source": [
        "x=np.array([1,1,2,2,3,3,4,4,5,5])\n",
        "a=np.unique(x)\n",
        "print(a)"
      ],
      "metadata": {
        "colab": {
          "base_uri": "https://localhost:8080/"
        },
        "id": "LKnRuKcPeTQL",
        "outputId": "4f54c16c-8fca-4fec-8ed5-05059b5d6fcb"
      },
      "execution_count": null,
      "outputs": [
        {
          "output_type": "stream",
          "name": "stdout",
          "text": [
            "[1 2 3 4 5]\n"
          ]
        }
      ]
    },
    {
      "cell_type": "code",
      "source": [
        "a=np.array([[1,2,3,4],[5,6,7,8]])\n",
        "b=np.array([[9,10,11,12],[13,14,15,16]])\n",
        "c=np.union1d(a,b);\n",
        "print(c)"
      ],
      "metadata": {
        "colab": {
          "base_uri": "https://localhost:8080/"
        },
        "id": "RVf1FMZNeo3t",
        "outputId": "a85a1fca-5467-4a99-860a-1e41d5b5f73f"
      },
      "execution_count": null,
      "outputs": [
        {
          "output_type": "stream",
          "name": "stdout",
          "text": [
            "[ 1  2  3  4  5  6  7  8  9 10 11 12 13 14 15 16]\n"
          ]
        }
      ]
    },
    {
      "cell_type": "code",
      "source": [
        "a=np.array([[1,2,3,4],[5,6,7,8]])\n",
        "b=np.array([[9,10,11,12],[5,14,15,16]])\n",
        "c=np.intersect1d(a,b);\n",
        "print(c)"
      ],
      "metadata": {
        "colab": {
          "base_uri": "https://localhost:8080/"
        },
        "id": "MD9NA2Nbfj76",
        "outputId": "f77ab303-4702-465c-bdab-6d152def070f"
      },
      "execution_count": null,
      "outputs": [
        {
          "output_type": "stream",
          "name": "stdout",
          "text": [
            "[5]\n"
          ]
        }
      ]
    },
    {
      "cell_type": "code",
      "source": [
        "a=np.array([[1,2,3,4],[5,6,7,8]])\n",
        "b=np.array([[9,10,11,12],[5,14,15,16]])\n",
        "c=np.setdiff1d(a,b);\n",
        "print(c)"
      ],
      "metadata": {
        "colab": {
          "base_uri": "https://localhost:8080/"
        },
        "id": "4Iydgrpgf9bj",
        "outputId": "a1a4da0d-02d1-4af8-bfdb-77595b325710"
      },
      "execution_count": null,
      "outputs": [
        {
          "output_type": "stream",
          "name": "stdout",
          "text": [
            "[1 2 3 4 6 7 8]\n"
          ]
        }
      ]
    },
    {
      "cell_type": "code",
      "source": [
        "a=8\n",
        "b=6\n",
        "c=np.hypot(a,b)\n",
        "print(c)"
      ],
      "metadata": {
        "colab": {
          "base_uri": "https://localhost:8080/"
        },
        "id": "YnR6f-KAhAsh",
        "outputId": "bb838f30-ab94-4082-d7b1-579bae4e505c"
      },
      "execution_count": null,
      "outputs": [
        {
          "output_type": "stream",
          "name": "stdout",
          "text": [
            "10.0\n"
          ]
        }
      ]
    },
    {
      "cell_type": "code",
      "source": [
        "x=np.sin(0)\n",
        "print(x)\n",
        "a=np.array([10,21,30,40,50,60])\n",
        "b=np.array([20,21,2,25,25,30])\n",
        "c=np.divmod(a,b)\n",
        "print(c)"
      ],
      "metadata": {
        "colab": {
          "base_uri": "https://localhost:8080/"
        },
        "id": "ijmoiGKihXS2",
        "outputId": "fd46a7f8-cf0a-4974-b8f5-6c9e52ba35cc"
      },
      "execution_count": null,
      "outputs": [
        {
          "output_type": "stream",
          "name": "stdout",
          "text": [
            "0.0\n",
            "(array([ 0,  1, 15,  1,  2,  2]), array([10,  0,  0, 15,  0,  0]))\n"
          ]
        }
      ]
    },
    {
      "cell_type": "code",
      "source": [
        "x=np.sin(0)\n",
        "print(x)\n",
        "a=np.array([10,21,30,40,50,60])\n",
        "b=np.array([20,21,2,25,25,30])\n",
        "c=np.mod(a,b)\n",
        "print(c)"
      ],
      "metadata": {
        "colab": {
          "base_uri": "https://localhost:8080/"
        },
        "id": "cDbjFxqridFy",
        "outputId": "1d5ff174-be36-4596-a70e-c201cca2d618"
      },
      "execution_count": null,
      "outputs": [
        {
          "output_type": "stream",
          "name": "stdout",
          "text": [
            "0.0\n",
            "[10  0  0 15  0  0]\n"
          ]
        }
      ]
    },
    {
      "cell_type": "code",
      "source": [
        "x=np.sin(0)\n",
        "print(x)\n",
        "a=np.array([10,21,30,40,50,60])\n",
        "b=np.array([20,21,2,25,25,30])\n",
        "c=np.divide(a,b)\n",
        "print(c)"
      ],
      "metadata": {
        "colab": {
          "base_uri": "https://localhost:8080/"
        },
        "id": "cwwBXQ04ioF6",
        "outputId": "8d078779-db56-4a86-d646-c7c508ccaab9"
      },
      "execution_count": null,
      "outputs": [
        {
          "output_type": "stream",
          "name": "stdout",
          "text": [
            "0.0\n",
            "[ 0.5  1.  15.   1.6  2.   2. ]\n"
          ]
        }
      ]
    },
    {
      "cell_type": "code",
      "source": [
        "x=np.sin(0)\n",
        "print(x)\n",
        "a=np.array([10,21,30,40,50,60])\n",
        "b=np.array([20,21,2,25,25,30])\n",
        "c=np.multiply(a,b)\n",
        "print(c)"
      ],
      "metadata": {
        "colab": {
          "base_uri": "https://localhost:8080/"
        },
        "id": "W07Ku1h_jC9p",
        "outputId": "e74f37f5-628d-43ac-a15e-dc87b27e9f61"
      },
      "execution_count": null,
      "outputs": [
        {
          "output_type": "stream",
          "name": "stdout",
          "text": [
            "0.0\n",
            "[ 200  441   60 1000 1250 1800]\n"
          ]
        }
      ]
    },
    {
      "cell_type": "code",
      "source": [
        "from numpy import random\n",
        "x=random.normal(size=(2,3))\n",
        "print(x)"
      ],
      "metadata": {
        "colab": {
          "base_uri": "https://localhost:8080/"
        },
        "id": "RNaG06hFjUjN",
        "outputId": "dac8662f-a0c6-4ce2-86d6-3f6c048228f8"
      },
      "execution_count": null,
      "outputs": [
        {
          "output_type": "stream",
          "name": "stdout",
          "text": [
            "[[ 1.59838316 -0.05578064  0.94421267]\n",
            " [-0.82575422  0.66639339  0.96659703]]\n"
          ]
        }
      ]
    },
    {
      "cell_type": "code",
      "source": [
        "x=random.normal(loc=1,scale=2,size=(2,3))\n",
        "print(x)"
      ],
      "metadata": {
        "colab": {
          "base_uri": "https://localhost:8080/"
        },
        "id": "OGXkUwMijseG",
        "outputId": "5db2e8c3-4477-4913-a3f7-702b94562ee8"
      },
      "execution_count": null,
      "outputs": [
        {
          "output_type": "stream",
          "name": "stdout",
          "text": [
            "[[-1.65907916 -0.95178986  1.72273028]\n",
            " [ 3.4411485   0.05124624  2.88224777]]\n"
          ]
        }
      ]
    },
    {
      "cell_type": "markdown",
      "source": [
        "loc=mean,\n",
        "scale=standard deviation\n",
        "a=[1,2,3,4,5]\n",
        "mean=1+2+3+4+5=15/5=3\n",
        "median=(1-3)^2+"
      ],
      "metadata": {
        "id": "nXEJoMaBkNiE"
      }
    },
    {
      "cell_type": "code",
      "source": [
        "a=random.binomial(n=12,p=0.5,size=10)\n",
        "print(a)"
      ],
      "metadata": {
        "colab": {
          "base_uri": "https://localhost:8080/"
        },
        "id": "Y8YNCShTlmol",
        "outputId": "5b04904d-1cf9-4c37-9c6d-015e79bf0922"
      },
      "execution_count": null,
      "outputs": [
        {
          "output_type": "stream",
          "name": "stdout",
          "text": [
            "[5 2 5 7 6 4 6 9 5 7]\n"
          ]
        }
      ]
    },
    {
      "cell_type": "markdown",
      "source": [
        "p=probability\n",
        "n=trials"
      ],
      "metadata": {
        "id": "WlcjuBTnl7_l"
      }
    },
    {
      "cell_type": "code",
      "source": [
        "x=random.poisson(lam=2,size=10)\n",
        "print(x)"
      ],
      "metadata": {
        "colab": {
          "base_uri": "https://localhost:8080/"
        },
        "id": "J9YiUkpTmAz-",
        "outputId": "5973ccde-db3f-4d29-cb7f-5d3232ef5d1a"
      },
      "execution_count": null,
      "outputs": [
        {
          "output_type": "stream",
          "name": "stdout",
          "text": [
            "[1 2 4 5 4 1 2 1 4 3]\n"
          ]
        }
      ]
    },
    {
      "cell_type": "code",
      "source": [
        "x=random.choice([1,2,3,4,5])\n",
        "print(x)"
      ],
      "metadata": {
        "colab": {
          "base_uri": "https://localhost:8080/"
        },
        "id": "Bx_54Lz5mYkL",
        "outputId": "25700891-ae38-4cf7-a108-30356614c3e6"
      },
      "execution_count": null,
      "outputs": [
        {
          "output_type": "stream",
          "name": "stdout",
          "text": [
            "4\n"
          ]
        }
      ]
    },
    {
      "cell_type": "code",
      "source": [
        "x=random.choice([3,5],p=[0.5,0.5],size=(3,5))\n",
        "print(x)"
      ],
      "metadata": {
        "colab": {
          "base_uri": "https://localhost:8080/"
        },
        "id": "79RWhVA-mmQp",
        "outputId": "4aced427-b240-4e08-b49e-9eafa761d6ae"
      },
      "execution_count": null,
      "outputs": [
        {
          "output_type": "stream",
          "name": "stdout",
          "text": [
            "[[3 3 5 5 3]\n",
            " [5 5 3 3 3]\n",
            " [5 3 5 5 5]]\n"
          ]
        }
      ]
    },
    {
      "cell_type": "code",
      "source": [
        "import numpy as np\n",
        "import matplotlib.pyplot as plt\n",
        "runs = np.array([100,50,91,78,89,25,34,19,9,10])\n",
        "w=np.array([1,0,2,0,3,7,8,9,7,5])\n",
        "plt.scatter(runs,w,color = 'yellow')\n",
        "plt.title('india')\n",
        "plt.show()"
      ],
      "metadata": {
        "colab": {
          "base_uri": "https://localhost:8080/",
          "height": 452
        },
        "id": "xCYNB6Gs0MPg",
        "outputId": "13e82e93-4a9c-447a-9fe8-c38fafc0fd7b"
      },
      "execution_count": null,
      "outputs": [
        {
          "output_type": "display_data",
          "data": {
            "text/plain": [
              "<Figure size 640x480 with 1 Axes>"
            ],
            "image/png": "[encoded data removed]"
          },
          "metadata": {}
        }
      ]
    },
    {
      "cell_type": "code",
      "source": [
        "import numpy as np\n",
        "import matplotlib.pyplot as plt\n",
        "tigar = np.linspace(-2*np.pi, 2*np.pi, 100)\n",
        "print(tigar)\n",
        "plt.plot(tigar, np.sin(tigar) ,color='black',linestyle='dotted')\n",
        "plt.title(\"sin(x)\")\n",
        "plt.show()"
      ],
      "metadata": {
        "colab": {
          "base_uri": "https://localhost:8080/",
          "height": 747
        },
        "id": "driYOtsu2Hll",
        "outputId": "0f3fb260-20f0-49c4-cd65-81b88e12d0f1"
      },
      "execution_count": null,
      "outputs": [
        {
          "output_type": "stream",
          "name": "stdout",
          "text": [
            "[-6.28318531 -6.15625227 -6.02931923 -5.9023862  -5.77545316 -5.64852012\n",
            " -5.52158709 -5.39465405 -5.26772102 -5.14078798 -5.01385494 -4.88692191\n",
            " -4.75998887 -4.63305583 -4.5061228  -4.37918976 -4.25225672 -4.12532369\n",
            " -3.99839065 -3.87145761 -3.74452458 -3.61759154 -3.4906585  -3.36372547\n",
            " -3.23679243 -3.10985939 -2.98292636 -2.85599332 -2.72906028 -2.60212725\n",
            " -2.47519421 -2.34826118 -2.22132814 -2.0943951  -1.96746207 -1.84052903\n",
            " -1.71359599 -1.58666296 -1.45972992 -1.33279688 -1.20586385 -1.07893081\n",
            " -0.95199777 -0.82506474 -0.6981317  -0.57119866 -0.44426563 -0.31733259\n",
            " -0.19039955 -0.06346652  0.06346652  0.19039955  0.31733259  0.44426563\n",
            "  0.57119866  0.6981317   0.82506474  0.95199777  1.07893081  1.20586385\n",
            "  1.33279688  1.45972992  1.58666296  1.71359599  1.84052903  1.96746207\n",
            "  2.0943951   2.22132814  2.34826118  2.47519421  2.60212725  2.72906028\n",
            "  2.85599332  2.98292636  3.10985939  3.23679243  3.36372547  3.4906585\n",
            "  3.61759154  3.74452458  3.87145761  3.99839065  4.12532369  4.25225672\n",
            "  4.37918976  4.5061228   4.63305583  4.75998887  4.88692191  5.01385494\n",
            "  5.14078798  5.26772102  5.39465405  5.52158709  5.64852012  5.77545316\n",
            "  5.9023862   6.02931923  6.15625227  6.28318531]\n"
          ]
        },
        {
          "output_type": "display_data",
          "data": {
            "text/plain": [
              "<Figure size 640x480 with 1 Axes>"
            ],
            "image/png": "[encoded data removed]"
          },
          "metadata": {}
        }
      ]
    },
    {
      "cell_type": "code",
      "source": [
        "import numpy as np\n",
        "import matplotlib.pyplot as plt\n",
        "#creating x\n",
        "overs = np.arange(5,50,5)\n",
        "overs_a = np.arange(5,30,5)\n",
        "#creating y\n",
        "runs_i = np.array([25,51,84,131,160,189,220,250,267])\n",
        "runs_a = np.array([15,41,94,110,151])\n",
        "wickets = np.array([12,32,96])\n",
        "#plotting\n",
        "plt.plot(overs,runs_i,color='blue',label='India')\n",
        "plt.plot(overs_a,runs_a,color='yellow',label = 'Aus')\n",
        "#combining two graphs\n",
        "plt.legend(loc='best')\n",
        "#displaying the final graph\n",
        "plt.show()"
      ],
      "metadata": {
        "colab": {
          "base_uri": "https://localhost:8080/",
          "height": 430
        },
        "id": "4RyI6qSP238h",
        "outputId": "72556612-fd3e-492e-e801-4ba101d90f7e"
      },
      "execution_count": null,
      "outputs": [
        {
          "output_type": "display_data",
          "data": {
            "text/plain": [
              "<Figure size 640x480 with 1 Axes>"
            ],
            "image/png": "[encoded data removed]"
          },
          "metadata": {}
        }
      ]
    },
    {
      "cell_type": "code",
      "source": [
        "import matplotlib.pyplot as plt\n",
        "a = [230,560,780,127,128]\n",
        "b = [200,160,270,127,400]\n",
        "years = [1,2,3,4]\n",
        "profit_a = [(a[i]-a[i-1]) for i in range(1,len(a))]\n",
        "profit_b = [(b[i]-b[i-1]) for i in range(1,len(b))]\n",
        "plt.plot(2,1,2)\n",
        "plt.plot(years,profit_a,color='hotpink',linewidth = '3',label ='CompanyA',marker='*',ms='15',mec='k')\n",
        "plt.subplot(2,1,1)\n",
        "plt.plot(years,profit_b,color='black',linestyle='dotted',label ='CompanyB',marker = 'H')\n",
        "plt.show()"
      ],
      "metadata": {
        "colab": {
          "base_uri": "https://localhost:8080/",
          "height": 430
        },
        "id": "niYd5OhJ3--v",
        "outputId": "2a7e571e-44d2-4144-87d3-91d17fdab9fe"
      },
      "execution_count": null,
      "outputs": [
        {
          "output_type": "display_data",
          "data": {
            "text/plain": [
              "<Figure size 640x480 with 2 Axes>"
            ],
            "image/png": "[encoded data removed]"
          },
          "metadata": {}
        }
      ]
    },
    {
      "cell_type": "code",
      "source": [
        "a = np.array([25,60,5,10])\n",
        "labe = [\"AIML\",\"Python\",\"Pandas\",\"Numpy\"]\n",
        "colours=['green','red','black','yellow']\n",
        "plt.pie(a,labels = labe,colors=colours)\n",
        "plt.show()"
      ],
      "metadata": {
        "colab": {
          "base_uri": "https://localhost:8080/",
          "height": 406
        },
        "id": "Vtz-zjPM4ngL",
        "outputId": "d4c73241-44e4-4998-cd4e-55ce3745a376"
      },
      "execution_count": null,
      "outputs": [
        {
          "output_type": "display_data",
          "data": {
            "text/plain": [
              "<Figure size 640x480 with 1 Axes>"
            ],
            "image/png": "[encoded data removed]"
          },
          "metadata": {}
        }
      ]
    },
    {
      "cell_type": "code",
      "source": [
        "a = np.array([25,60,5,10])\n",
        "labe = [\"AIML\",\"Python\",\"Pandas\",\"Numpy\"]\n",
        "explo = [0.2,0,0,0]\n",
        "plt.pie(a,labels = labe,explode = explo,startangle = 180)\n",
        "plt.show()"
      ],
      "metadata": {
        "colab": {
          "base_uri": "https://localhost:8080/",
          "height": 406
        },
        "id": "bafuugAL_VN7",
        "outputId": "2a051e94-8d6e-442f-c38e-1f7fc6fc33ba"
      },
      "execution_count": null,
      "outputs": [
        {
          "output_type": "display_data",
          "data": {
            "text/plain": [
              "<Figure size 640x480 with 1 Axes>"
            ],
            "image/png": "[encoded data removed]"
          },
          "metadata": {}
        }
      ]
    },
    {
      "cell_type": "code",
      "source": [
        "a = np.array([25,60,5,10])\n",
        "labe = [\"AIML\",\"Python\",\"Pandas\",\"Numpy\"]\n",
        "explo = [0.3,0,0,0]\n",
        "plt.pie(a,labels = labe,explode = explo,shadow=True)\n",
        "plt.legend()\n",
        "plt.show()"
      ],
      "metadata": {
        "id": "5cR5Mndy_cO-",
        "outputId": "e5dc3e33-7381-4310-a72e-99dfb8725e7c",
        "colab": {
          "base_uri": "https://localhost:8080/",
          "height": 406
        }
      },
      "execution_count": null,
      "outputs": [
        {
          "output_type": "display_data",
          "data": {
            "text/plain": [
              "<Figure size 640x480 with 1 Axes>"
            ],
            "image/png": "[encoded data removed]"
          },
          "metadata": {}
        }
      ]
    }
  ]
}